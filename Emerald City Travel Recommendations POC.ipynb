{
 "cells": [
  {
   "cell_type": "code",
   "execution_count": 1,
   "metadata": {
    "ExecuteTime": {
     "end_time": "2020-06-16T22:29:10.244591Z",
     "start_time": "2020-06-16T22:29:08.400194Z"
    }
   },
   "outputs": [],
   "source": [
    "import pandas as pd\n",
    "import numpy as np\n",
    "import matplotlib.pyplot as plt\n",
    "import seaborn as sns\n",
    "import re\n",
    "\n",
    "import warnings\n",
    "warnings.filterwarnings('ignore')\n",
    "\n",
    "from nltk.tag import pos_tag\n",
    "from nltk.tokenize import word_tokenize, RegexpTokenizer, sent_tokenize\n",
    "from nltk.corpus import stopwords\n",
    "from nltk import ne_chunk\n",
    "from nltk import download\n",
    "from nltk.stem import SnowballStemmer\n",
    "#download('maxent_ne_chunker')\n",
    "#download('words')\n",
    "#nltk.download('averaged_perceptron_tagger')\n",
    "\n",
    "from rake_nltk import rake\n",
    "\n",
    "from sklearn.metrics.pairwise import cosine_similarity\n",
    "from sklearn.feature_extraction.text import CountVectorizer, TfidfVectorizer\n",
    "\n",
    "from wordcloud import WordCloud, ImageColorGenerator\n",
    "\n",
    "from gensim.test.utils import common_texts\n",
    "from gensim.models.doc2vec import Doc2Vec, TaggedDocument"
   ]
  },
  {
   "cell_type": "markdown",
   "metadata": {},
   "source": [
    "# Emerald City Travel Recommendations"
   ]
  },
  {
   "cell_type": "markdown",
   "metadata": {
    "ExecuteTime": {
     "end_time": "2020-06-04T23:38:54.451841Z",
     "start_time": "2020-06-04T23:38:54.448841Z"
    }
   },
   "source": [
    "## Data Preparation"
   ]
  },
  {
   "cell_type": "code",
   "execution_count": 2,
   "metadata": {
    "ExecuteTime": {
     "end_time": "2020-06-16T22:29:10.355192Z",
     "start_time": "2020-06-16T22:29:10.246192Z"
    }
   },
   "outputs": [],
   "source": [
    "## import dataframes\n",
    "seattle_coffee_reviews_df = pd.read_csv('seattle_coffee_reviews_df.csv')\n",
    "seattle_boutique_reviews_df = pd.read_csv('seattle_boutique_reviews_df.csv')\n",
    "seattle_adult_reviews_df = pd.read_csv('seattle_adult_reviews_df.csv')"
   ]
  },
  {
   "cell_type": "code",
   "execution_count": 3,
   "metadata": {
    "ExecuteTime": {
     "end_time": "2020-06-16T22:29:10.371193Z",
     "start_time": "2020-06-16T22:29:10.357196Z"
    }
   },
   "outputs": [
    {
     "data": {
      "text/html": [
       "<div>\n",
       "<style scoped>\n",
       "    .dataframe tbody tr th:only-of-type {\n",
       "        vertical-align: middle;\n",
       "    }\n",
       "\n",
       "    .dataframe tbody tr th {\n",
       "        vertical-align: top;\n",
       "    }\n",
       "\n",
       "    .dataframe thead th {\n",
       "        text-align: right;\n",
       "    }\n",
       "</style>\n",
       "<table border=\"1\" class=\"dataframe\">\n",
       "  <thead>\n",
       "    <tr style=\"text-align: right;\">\n",
       "      <th></th>\n",
       "      <th>business_name</th>\n",
       "      <th>source_url</th>\n",
       "      <th>review_ratings</th>\n",
       "      <th>review_text</th>\n",
       "    </tr>\n",
       "  </thead>\n",
       "  <tbody>\n",
       "    <tr>\n",
       "      <td>0</td>\n",
       "      <td>Armistice Coffee Roaster</td>\n",
       "      <td>https://www.yelp.com/biz/armistice-coffee-roas...</td>\n",
       "      <td>1.0</td>\n",
       "      <td>Iced mocha and hot mocha were flavorless. Tast...</td>\n",
       "    </tr>\n",
       "    <tr>\n",
       "      <td>1</td>\n",
       "      <td>Armistice Coffee Roaster</td>\n",
       "      <td>https://www.yelp.com/biz/armistice-coffee-roas...</td>\n",
       "      <td>4.0</td>\n",
       "      <td>Good coffee. Didn't try any of the pastries. C...</td>\n",
       "    </tr>\n",
       "    <tr>\n",
       "      <td>2</td>\n",
       "      <td>Armistice Coffee Roaster</td>\n",
       "      <td>https://www.yelp.com/biz/armistice-coffee-roas...</td>\n",
       "      <td>5.0</td>\n",
       "      <td>Cozy atmosphere. REALLY GOOD almond croissants...</td>\n",
       "    </tr>\n",
       "    <tr>\n",
       "      <td>3</td>\n",
       "      <td>Armistice Coffee Roaster</td>\n",
       "      <td>https://www.yelp.com/biz/armistice-coffee-roas...</td>\n",
       "      <td>5.0</td>\n",
       "      <td>What a nice contemporary coffee shop. 3 min wa...</td>\n",
       "    </tr>\n",
       "    <tr>\n",
       "      <td>4</td>\n",
       "      <td>Armistice Coffee Roaster</td>\n",
       "      <td>https://www.yelp.com/biz/armistice-coffee-roas...</td>\n",
       "      <td>5.0</td>\n",
       "      <td>Great coffee, nice baristas, and a cute place ...</td>\n",
       "    </tr>\n",
       "  </tbody>\n",
       "</table>\n",
       "</div>"
      ],
      "text/plain": [
       "              business_name  \\\n",
       "0  Armistice Coffee Roaster   \n",
       "1  Armistice Coffee Roaster   \n",
       "2  Armistice Coffee Roaster   \n",
       "3  Armistice Coffee Roaster   \n",
       "4  Armistice Coffee Roaster   \n",
       "\n",
       "                                          source_url  review_ratings  \\\n",
       "0  https://www.yelp.com/biz/armistice-coffee-roas...             1.0   \n",
       "1  https://www.yelp.com/biz/armistice-coffee-roas...             4.0   \n",
       "2  https://www.yelp.com/biz/armistice-coffee-roas...             5.0   \n",
       "3  https://www.yelp.com/biz/armistice-coffee-roas...             5.0   \n",
       "4  https://www.yelp.com/biz/armistice-coffee-roas...             5.0   \n",
       "\n",
       "                                         review_text  \n",
       "0  Iced mocha and hot mocha were flavorless. Tast...  \n",
       "1  Good coffee. Didn't try any of the pastries. C...  \n",
       "2  Cozy atmosphere. REALLY GOOD almond croissants...  \n",
       "3  What a nice contemporary coffee shop. 3 min wa...  \n",
       "4  Great coffee, nice baristas, and a cute place ...  "
      ]
     },
     "execution_count": 3,
     "metadata": {},
     "output_type": "execute_result"
    }
   ],
   "source": [
    "# check head\n",
    "seattle_coffee_reviews_df.head()"
   ]
  },
  {
   "cell_type": "code",
   "execution_count": 4,
   "metadata": {
    "ExecuteTime": {
     "end_time": "2020-06-16T22:29:10.382194Z",
     "start_time": "2020-06-16T22:29:10.373193Z"
    },
    "scrolled": false
   },
   "outputs": [
    {
     "data": {
      "text/html": [
       "<div>\n",
       "<style scoped>\n",
       "    .dataframe tbody tr th:only-of-type {\n",
       "        vertical-align: middle;\n",
       "    }\n",
       "\n",
       "    .dataframe tbody tr th {\n",
       "        vertical-align: top;\n",
       "    }\n",
       "\n",
       "    .dataframe thead th {\n",
       "        text-align: right;\n",
       "    }\n",
       "</style>\n",
       "<table border=\"1\" class=\"dataframe\">\n",
       "  <thead>\n",
       "    <tr style=\"text-align: right;\">\n",
       "      <th></th>\n",
       "      <th>business_name</th>\n",
       "      <th>source_url</th>\n",
       "      <th>review_ratings</th>\n",
       "      <th>review_text</th>\n",
       "    </tr>\n",
       "  </thead>\n",
       "  <tbody>\n",
       "    <tr>\n",
       "      <td>0</td>\n",
       "      <td>Alexandra’s Designer Consignment</td>\n",
       "      <td>https://www.yelp.com/biz/alexandras-designer-c...</td>\n",
       "      <td>3.0</td>\n",
       "      <td>I love consignment shops, and I was really exc...</td>\n",
       "    </tr>\n",
       "    <tr>\n",
       "      <td>1</td>\n",
       "      <td>Alexandra’s Designer Consignment</td>\n",
       "      <td>https://www.yelp.com/biz/alexandras-designer-c...</td>\n",
       "      <td>3.0</td>\n",
       "      <td>This is a large store full of dated designer c...</td>\n",
       "    </tr>\n",
       "    <tr>\n",
       "      <td>2</td>\n",
       "      <td>Alexandra’s Designer Consignment</td>\n",
       "      <td>https://www.yelp.com/biz/alexandras-designer-c...</td>\n",
       "      <td>5.0</td>\n",
       "      <td>I recently bought an 18 Karat gold chain here....</td>\n",
       "    </tr>\n",
       "    <tr>\n",
       "      <td>3</td>\n",
       "      <td>Alexandra’s Designer Consignment</td>\n",
       "      <td>https://www.yelp.com/biz/alexandras-designer-c...</td>\n",
       "      <td>5.0</td>\n",
       "      <td>I regularly shop at Alexandra's-anytime I need...</td>\n",
       "    </tr>\n",
       "    <tr>\n",
       "      <td>4</td>\n",
       "      <td>Alexandra’s Designer Consignment</td>\n",
       "      <td>https://www.yelp.com/biz/alexandras-designer-c...</td>\n",
       "      <td>2.0</td>\n",
       "      <td>Not impressed. I had really high hopes for thi...</td>\n",
       "    </tr>\n",
       "  </tbody>\n",
       "</table>\n",
       "</div>"
      ],
      "text/plain": [
       "                      business_name  \\\n",
       "0  Alexandra’s Designer Consignment   \n",
       "1  Alexandra’s Designer Consignment   \n",
       "2  Alexandra’s Designer Consignment   \n",
       "3  Alexandra’s Designer Consignment   \n",
       "4  Alexandra’s Designer Consignment   \n",
       "\n",
       "                                          source_url  review_ratings  \\\n",
       "0  https://www.yelp.com/biz/alexandras-designer-c...             3.0   \n",
       "1  https://www.yelp.com/biz/alexandras-designer-c...             3.0   \n",
       "2  https://www.yelp.com/biz/alexandras-designer-c...             5.0   \n",
       "3  https://www.yelp.com/biz/alexandras-designer-c...             5.0   \n",
       "4  https://www.yelp.com/biz/alexandras-designer-c...             2.0   \n",
       "\n",
       "                                         review_text  \n",
       "0  I love consignment shops, and I was really exc...  \n",
       "1  This is a large store full of dated designer c...  \n",
       "2  I recently bought an 18 Karat gold chain here....  \n",
       "3  I regularly shop at Alexandra's-anytime I need...  \n",
       "4  Not impressed. I had really high hopes for thi...  "
      ]
     },
     "execution_count": 4,
     "metadata": {},
     "output_type": "execute_result"
    }
   ],
   "source": [
    "# check head\n",
    "seattle_boutique_reviews_df.head()"
   ]
  },
  {
   "cell_type": "code",
   "execution_count": 5,
   "metadata": {
    "ExecuteTime": {
     "end_time": "2020-06-16T22:29:10.394191Z",
     "start_time": "2020-06-16T22:29:10.384193Z"
    }
   },
   "outputs": [
    {
     "data": {
      "text/html": [
       "<div>\n",
       "<style scoped>\n",
       "    .dataframe tbody tr th:only-of-type {\n",
       "        vertical-align: middle;\n",
       "    }\n",
       "\n",
       "    .dataframe tbody tr th {\n",
       "        vertical-align: top;\n",
       "    }\n",
       "\n",
       "    .dataframe thead th {\n",
       "        text-align: right;\n",
       "    }\n",
       "</style>\n",
       "<table border=\"1\" class=\"dataframe\">\n",
       "  <thead>\n",
       "    <tr style=\"text-align: right;\">\n",
       "      <th></th>\n",
       "      <th>business_name</th>\n",
       "      <th>source_url</th>\n",
       "      <th>review_ratings</th>\n",
       "      <th>review_text</th>\n",
       "    </tr>\n",
       "  </thead>\n",
       "  <tbody>\n",
       "    <tr>\n",
       "      <td>0</td>\n",
       "      <td>White Horse Tavern</td>\n",
       "      <td>https://www.yelp.com/biz/white-horse-tavern-se...</td>\n",
       "      <td>5.0</td>\n",
       "      <td>Love this little neighborhood hood gem. The be...</td>\n",
       "    </tr>\n",
       "    <tr>\n",
       "      <td>1</td>\n",
       "      <td>White Horse Tavern</td>\n",
       "      <td>https://www.yelp.com/biz/white-horse-tavern-se...</td>\n",
       "      <td>4.0</td>\n",
       "      <td>Great tavern, great drinks and great service. ...</td>\n",
       "    </tr>\n",
       "    <tr>\n",
       "      <td>2</td>\n",
       "      <td>White Horse Tavern</td>\n",
       "      <td>https://www.yelp.com/biz/white-horse-tavern-se...</td>\n",
       "      <td>1.0</td>\n",
       "      <td>This place is something that is rare in states...</td>\n",
       "    </tr>\n",
       "    <tr>\n",
       "      <td>3</td>\n",
       "      <td>White Horse Tavern</td>\n",
       "      <td>https://www.yelp.com/biz/white-horse-tavern-se...</td>\n",
       "      <td>5.0</td>\n",
       "      <td>I come from Switzerland and have to say do you...</td>\n",
       "    </tr>\n",
       "    <tr>\n",
       "      <td>4</td>\n",
       "      <td>White Horse Tavern</td>\n",
       "      <td>https://www.yelp.com/biz/white-horse-tavern-se...</td>\n",
       "      <td>5.0</td>\n",
       "      <td>Recommend the strong island ice tea and house ...</td>\n",
       "    </tr>\n",
       "  </tbody>\n",
       "</table>\n",
       "</div>"
      ],
      "text/plain": [
       "        business_name                                         source_url  \\\n",
       "0  White Horse Tavern  https://www.yelp.com/biz/white-horse-tavern-se...   \n",
       "1  White Horse Tavern  https://www.yelp.com/biz/white-horse-tavern-se...   \n",
       "2  White Horse Tavern  https://www.yelp.com/biz/white-horse-tavern-se...   \n",
       "3  White Horse Tavern  https://www.yelp.com/biz/white-horse-tavern-se...   \n",
       "4  White Horse Tavern  https://www.yelp.com/biz/white-horse-tavern-se...   \n",
       "\n",
       "   review_ratings                                        review_text  \n",
       "0             5.0  Love this little neighborhood hood gem. The be...  \n",
       "1             4.0  Great tavern, great drinks and great service. ...  \n",
       "2             1.0  This place is something that is rare in states...  \n",
       "3             5.0  I come from Switzerland and have to say do you...  \n",
       "4             5.0  Recommend the strong island ice tea and house ...  "
      ]
     },
     "execution_count": 5,
     "metadata": {},
     "output_type": "execute_result"
    }
   ],
   "source": [
    "# check head\n",
    "seattle_adult_reviews_df.head()"
   ]
  },
  {
   "cell_type": "code",
   "execution_count": 6,
   "metadata": {
    "ExecuteTime": {
     "end_time": "2020-06-16T22:29:10.402188Z",
     "start_time": "2020-06-16T22:29:10.396191Z"
    }
   },
   "outputs": [
    {
     "data": {
      "text/plain": [
       "'Love this little neighborhood hood gem. The best 3$ hour whiskey and a transporting vibe. Makes you feel like your in A real Irish Pub.'"
      ]
     },
     "execution_count": 6,
     "metadata": {},
     "output_type": "execute_result"
    }
   ],
   "source": [
    "seattle_adult_reviews_df['review_text'][0]"
   ]
  },
  {
   "cell_type": "markdown",
   "metadata": {
    "ExecuteTime": {
     "end_time": "2020-06-05T00:17:54.774512Z",
     "start_time": "2020-06-05T00:17:54.770512Z"
    }
   },
   "source": [
    "Check out basic info on dataframes."
   ]
  },
  {
   "cell_type": "code",
   "execution_count": 7,
   "metadata": {
    "ExecuteTime": {
     "end_time": "2020-06-16T22:29:10.413194Z",
     "start_time": "2020-06-16T22:29:10.403190Z"
    }
   },
   "outputs": [
    {
     "name": "stdout",
     "output_type": "stream",
     "text": [
      "<class 'pandas.core.frame.DataFrame'>\n",
      "RangeIndex: 7478 entries, 0 to 7477\n",
      "Data columns (total 4 columns):\n",
      "business_name     7478 non-null object\n",
      "source_url        7478 non-null object\n",
      "review_ratings    7478 non-null float64\n",
      "review_text       7478 non-null object\n",
      "dtypes: float64(1), object(3)\n",
      "memory usage: 233.8+ KB\n"
     ]
    }
   ],
   "source": [
    "# check info\n",
    "seattle_coffee_reviews_df.info()"
   ]
  },
  {
   "cell_type": "code",
   "execution_count": 8,
   "metadata": {
    "ExecuteTime": {
     "end_time": "2020-06-16T22:29:10.423195Z",
     "start_time": "2020-06-16T22:29:10.416196Z"
    },
    "scrolled": true
   },
   "outputs": [
    {
     "name": "stdout",
     "output_type": "stream",
     "text": [
      "<class 'pandas.core.frame.DataFrame'>\n",
      "RangeIndex: 2120 entries, 0 to 2119\n",
      "Data columns (total 4 columns):\n",
      "business_name     2120 non-null object\n",
      "source_url        2120 non-null object\n",
      "review_ratings    2120 non-null float64\n",
      "review_text       2120 non-null object\n",
      "dtypes: float64(1), object(3)\n",
      "memory usage: 66.4+ KB\n"
     ]
    }
   ],
   "source": [
    "# check info\n",
    "seattle_boutique_reviews_df.info()"
   ]
  },
  {
   "cell_type": "code",
   "execution_count": 9,
   "metadata": {
    "ExecuteTime": {
     "end_time": "2020-06-16T22:29:10.434191Z",
     "start_time": "2020-06-16T22:29:10.425193Z"
    }
   },
   "outputs": [
    {
     "name": "stdout",
     "output_type": "stream",
     "text": [
      "<class 'pandas.core.frame.DataFrame'>\n",
      "RangeIndex: 10042 entries, 0 to 10041\n",
      "Data columns (total 4 columns):\n",
      "business_name     10042 non-null object\n",
      "source_url        10042 non-null object\n",
      "review_ratings    10042 non-null float64\n",
      "review_text       10042 non-null object\n",
      "dtypes: float64(1), object(3)\n",
      "memory usage: 313.9+ KB\n"
     ]
    }
   ],
   "source": [
    "# check info\n",
    "seattle_adult_reviews_df.info()"
   ]
  },
  {
   "cell_type": "markdown",
   "metadata": {},
   "source": [
    "### Remove Reviews with Less Than Four Stars"
   ]
  },
  {
   "cell_type": "markdown",
   "metadata": {},
   "source": [
    "Because the purpose of our application is to make recommendations to places the user would enjoy we will only be interested in looking at positive reviews. "
   ]
  },
  {
   "cell_type": "code",
   "execution_count": 10,
   "metadata": {
    "ExecuteTime": {
     "end_time": "2020-06-16T22:29:10.446223Z",
     "start_time": "2020-06-16T22:29:10.435192Z"
    }
   },
   "outputs": [
    {
     "data": {
      "text/plain": [
       "0    0.568601\n",
       "1    0.237630\n",
       "2    0.085986\n",
       "3    0.054426\n",
       "4    0.053357\n",
       "Name: review_ratings, dtype: float64"
      ]
     },
     "execution_count": 10,
     "metadata": {},
     "output_type": "execute_result"
    }
   ],
   "source": [
    "# check distribution of review ratings\n",
    "seattle_coffee_reviews_df['review_ratings'].value_counts(normalize=True).reset_index(drop=True)"
   ]
  },
  {
   "cell_type": "code",
   "execution_count": 11,
   "metadata": {
    "ExecuteTime": {
     "end_time": "2020-06-16T22:29:10.454223Z",
     "start_time": "2020-06-16T22:29:10.447192Z"
    },
    "scrolled": false
   },
   "outputs": [
    {
     "data": {
      "text/plain": [
       "0    0.650000\n",
       "1    0.197170\n",
       "2    0.063208\n",
       "3    0.052830\n",
       "4    0.036792\n",
       "Name: review_ratings, dtype: float64"
      ]
     },
     "execution_count": 11,
     "metadata": {},
     "output_type": "execute_result"
    }
   ],
   "source": [
    "# check distribution of review ratings\n",
    "seattle_boutique_reviews_df['review_ratings'].value_counts(normalize=True).reset_index(drop=True)"
   ]
  },
  {
   "cell_type": "code",
   "execution_count": 12,
   "metadata": {
    "ExecuteTime": {
     "end_time": "2020-06-16T22:29:10.462193Z",
     "start_time": "2020-06-16T22:29:10.455193Z"
    }
   },
   "outputs": [
    {
     "data": {
      "text/plain": [
       "0    0.541127\n",
       "1    0.249552\n",
       "2    0.086238\n",
       "3    0.075782\n",
       "4    0.047301\n",
       "Name: review_ratings, dtype: float64"
      ]
     },
     "execution_count": 12,
     "metadata": {},
     "output_type": "execute_result"
    }
   ],
   "source": [
    "# check distribution of review ratings\n",
    "seattle_adult_reviews_df['review_ratings'].value_counts(normalize=True).reset_index(drop=True)"
   ]
  },
  {
   "cell_type": "markdown",
   "metadata": {},
   "source": [
    "We will only be losing 19% and 15% of our coffee and boutique reviews, respectively, by excluding any review with less than four stars. Therefore, we will only keep reviews with four or five star ratings."
   ]
  },
  {
   "cell_type": "code",
   "execution_count": 13,
   "metadata": {
    "ExecuteTime": {
     "end_time": "2020-06-16T22:29:10.473195Z",
     "start_time": "2020-06-16T22:29:10.464194Z"
    }
   },
   "outputs": [],
   "source": [
    "# filter out all reviews with less than four stars\n",
    "seattle_coffee_reviews_df = seattle_coffee_reviews_df[seattle_coffee_reviews_df['review_ratings'].isin([4.0,5.0])]\n",
    "seattle_boutique_reviews_df = seattle_boutique_reviews_df[seattle_boutique_reviews_df['review_ratings'].isin([4.0,5.0])]\n",
    "seattle_adult_reviews_df = seattle_adult_reviews_df[seattle_adult_reviews_df['review_ratings'].isin([4.0,5.0])]"
   ]
  },
  {
   "cell_type": "markdown",
   "metadata": {},
   "source": [
    "We will create a list of our dataframes so that we may loop through the list and perform operations on our dataframes simultaneously. "
   ]
  },
  {
   "cell_type": "code",
   "execution_count": 14,
   "metadata": {
    "ExecuteTime": {
     "end_time": "2020-06-16T22:29:10.479225Z",
     "start_time": "2020-06-16T22:29:10.475227Z"
    }
   },
   "outputs": [],
   "source": [
    "# create list of dataframes\n",
    "seattle_review_dataframes = [seattle_coffee_reviews_df, seattle_boutique_reviews_df, seattle_adult_reviews_df]"
   ]
  },
  {
   "cell_type": "markdown",
   "metadata": {
    "ExecuteTime": {
     "end_time": "2020-06-05T19:11:48.782224Z",
     "start_time": "2020-06-05T19:11:48.777224Z"
    }
   },
   "source": [
    "### Expand the Contractions"
   ]
  },
  {
   "cell_type": "markdown",
   "metadata": {
    "ExecuteTime": {
     "end_time": "2020-06-05T19:12:11.175935Z",
     "start_time": "2020-06-05T19:12:11.168918Z"
    }
   },
   "source": [
    "We may use a dictionary to expand the English contractions (for example, \"shouldn't, can't\"). The following dictionary and code is courtesy of Analytics Vidhya. \n",
    "\n",
    "However, in order to properly apply the provided dictionary, we must first lowercase every string in our 'review_text' column. "
   ]
  },
  {
   "cell_type": "code",
   "execution_count": 15,
   "metadata": {
    "ExecuteTime": {
     "end_time": "2020-06-16T22:29:10.483220Z",
     "start_time": "2020-06-16T22:29:10.480191Z"
    }
   },
   "outputs": [],
   "source": [
    "string = \"Uppercase String\""
   ]
  },
  {
   "cell_type": "code",
   "execution_count": 16,
   "metadata": {
    "ExecuteTime": {
     "end_time": "2020-06-16T22:29:10.490193Z",
     "start_time": "2020-06-16T22:29:10.485195Z"
    }
   },
   "outputs": [
    {
     "data": {
      "text/plain": [
       "'uppercase string'"
      ]
     },
     "execution_count": 16,
     "metadata": {},
     "output_type": "execute_result"
    }
   ],
   "source": [
    "string.lower()"
   ]
  },
  {
   "cell_type": "code",
   "execution_count": 17,
   "metadata": {
    "ExecuteTime": {
     "end_time": "2020-06-16T22:29:10.525193Z",
     "start_time": "2020-06-16T22:29:10.492190Z"
    }
   },
   "outputs": [],
   "source": [
    "# make all reviews lowercase\n",
    "seattle_coffee_reviews_df['review_text'] = seattle_coffee_reviews_df['review_text'].apply(lambda x: x.lower())\n",
    "seattle_boutique_reviews_df['review_text'] = seattle_boutique_reviews_df['review_text'].apply(lambda x: x.lower())\n",
    "seattle_adult_reviews_df['review_text'] = seattle_adult_reviews_df['review_text'].apply(lambda x: x.lower())"
   ]
  },
  {
   "cell_type": "code",
   "execution_count": 18,
   "metadata": {
    "ExecuteTime": {
     "end_time": "2020-06-16T22:29:10.538224Z",
     "start_time": "2020-06-16T22:29:10.527223Z"
    }
   },
   "outputs": [],
   "source": [
    "# Dictionary of English Contractions\n",
    "contractions_dict = { \"ain't\": \"are not\",\"'s\":\" is\",\"aren't\": \"are not\",\n",
    "                     \"can't\": \"cannot\",\"can't've\": \"cannot have\",\n",
    "                     \"'cause\": \"because\",\"could've\": \"could have\",\"couldn't\": \"could not\",\n",
    "                     \"couldn't've\": \"could not have\", \"didn't\": \"did not\",\"doesn't\": \"does not\",\n",
    "                     \"don't\": \"do not\",\"hadn't\": \"had not\",\"hadn't've\": \"had not have\",\n",
    "                     \"hasn't\": \"has not\",\"haven't\": \"have not\",\"he'd\": \"he would\",\n",
    "                     \"he'd've\": \"he would have\",\"he'll\": \"he will\", \"he'll've\": \"he will have\",\n",
    "                     \"how'd\": \"how did\",\"how'd'y\": \"how do you\",\"how'll\": \"how will\",\n",
    "                     \"I'd\": \"I would\", \"I'd've\": \"I would have\",\"I'll\": \"I will\",\n",
    "                     \"I'll've\": \"I will have\",\"I'm\": \"I am\",\"I've\": \"I have\", \"isn't\": \"is not\",\n",
    "                     \"it'd\": \"it would\",\"it'd've\": \"it would have\",\"it'll\": \"it will\",\n",
    "                     \"it'll've\": \"it will have\", \"let's\": \"let us\",\"ma'am\": \"madam\",\n",
    "                     \"mayn't\": \"may not\",\"might've\": \"might have\",\"mightn't\": \"might not\", \n",
    "                     \"mightn't've\": \"might not have\",\"must've\": \"must have\",\"mustn't\": \"must not\",\n",
    "                     \"mustn't've\": \"must not have\", \"needn't\": \"need not\",\n",
    "                     \"needn't've\": \"need not have\",\"o'clock\": \"of the clock\",\"oughtn't\": \"ought not\",\n",
    "                     \"oughtn't've\": \"ought not have\",\"shan't\": \"shall not\",\"sha'n't\": \"shall not\",\n",
    "                     \"shan't've\": \"shall not have\",\"she'd\": \"she would\",\"she'd've\": \"she would have\",\n",
    "                     \"she'll\": \"she will\", \"she'll've\": \"she will have\",\"should've\": \"should have\",\n",
    "                     \"shouldn't\": \"should not\", \"shouldn't've\": \"should not have\",\"so've\": \"so have\",\n",
    "                     \"that'd\": \"that would\",\"that'd've\": \"that would have\", \"there'd\": \"there would\",\n",
    "                     \"there'd've\": \"there would have\", \"they'd\": \"they would\",\n",
    "                     \"they'd've\": \"they would have\",\"they'll\": \"they will\",\n",
    "                     \"they'll've\": \"they will have\", \"they're\": \"they are\",\"they've\": \"they have\",\n",
    "                     \"to've\": \"to have\",\"wasn't\": \"was not\",\"we'd\": \"we would\",\n",
    "                     \"we'd've\": \"we would have\",\"we'll\": \"we will\",\"we'll've\": \"we will have\",\n",
    "                     \"we're\": \"we are\",\"we've\": \"we have\", \"weren't\": \"were not\",\"what'll\": \"what will\",\n",
    "                     \"what'll've\": \"what will have\",\"what're\": \"what are\", \"what've\": \"what have\",\n",
    "                     \"when've\": \"when have\",\"where'd\": \"where did\", \"where've\": \"where have\",\n",
    "                     \"who'll\": \"who will\",\"who'll've\": \"who will have\",\"who've\": \"who have\",\n",
    "                     \"why've\": \"why have\",\"will've\": \"will have\",\"won't\": \"will not\",\n",
    "                     \"won't've\": \"will not have\", \"would've\": \"would have\",\"wouldn't\": \"would not\",\n",
    "                     \"wouldn't've\": \"would not have\",\"y'all\": \"you all\", \"y'all'd\": \"you all would\",\n",
    "                     \"y'all'd've\": \"you all would have\",\"y'all're\": \"you all are\",\n",
    "                     \"y'all've\": \"you all have\", \"you'd\": \"you would\",\"you'd've\": \"you would have\",\n",
    "                     \"you'll\": \"you will\",\"you'll've\": \"you will have\", \"you're\": \"you are\",\n",
    "                     \"you've\": \"you have\"}"
   ]
  },
  {
   "cell_type": "code",
   "execution_count": 19,
   "metadata": {
    "ExecuteTime": {
     "end_time": "2020-06-16T22:29:11.896294Z",
     "start_time": "2020-06-16T22:29:10.539223Z"
    }
   },
   "outputs": [],
   "source": [
    "# Regular expression for finding contractions\n",
    "contractions_re=re.compile('(%s)' % '|'.join(contractions_dict.keys()))\n",
    "\n",
    "# Function for expanding contractions\n",
    "def expand_contractions(text,contractions_dict=contractions_dict):\n",
    "    def replace(match):\n",
    "        return contractions_dict[match.group(0)]\n",
    "    return contractions_re.sub(replace, text)\n",
    "\n",
    "# Expanding Contractions in the reviews\n",
    "for df in seattle_review_dataframes:\n",
    "    df['review_text']=df['review_text'].apply(expand_contractions)"
   ]
  },
  {
   "cell_type": "code",
   "execution_count": 20,
   "metadata": {
    "ExecuteTime": {
     "end_time": "2020-06-16T22:29:11.902194Z",
     "start_time": "2020-06-16T22:29:11.897214Z"
    }
   },
   "outputs": [
    {
     "data": {
      "text/plain": [
       "'good coffee. did not try any of the pastries. comfy space. it was right below my airbnb so it was super convenient. the barristas were polite but indifferent.'"
      ]
     },
     "execution_count": 20,
     "metadata": {},
     "output_type": "execute_result"
    }
   ],
   "source": [
    "# check it out\n",
    "seattle_coffee_reviews_df['review_text'][1]"
   ]
  },
  {
   "cell_type": "markdown",
   "metadata": {},
   "source": [
    "### Tokenizing Review Data"
   ]
  },
  {
   "cell_type": "markdown",
   "metadata": {},
   "source": [
    "Our first step here will be to tokenize our review data. To do this we will borrow a function used in our \"Predicting Review Usefulness\" notebook. This function is used to tokenize a review, remove all stop words, remove punctuation, lowercase all words, and return our cleaned tokens. We will edit this function so that it removes the page breaks, first. "
   ]
  },
  {
   "cell_type": "code",
   "execution_count": 21,
   "metadata": {
    "ExecuteTime": {
     "end_time": "2020-06-16T22:29:11.908189Z",
     "start_time": "2020-06-16T22:29:11.903195Z"
    }
   },
   "outputs": [],
   "source": [
    "# create sample string\n",
    "string = \"I\\'m a sample string. <br> Nailed it. \\xa0Check me out.\""
   ]
  },
  {
   "cell_type": "code",
   "execution_count": 22,
   "metadata": {
    "ExecuteTime": {
     "end_time": "2020-06-16T22:29:11.918233Z",
     "start_time": "2020-06-16T22:29:11.910198Z"
    },
    "scrolled": true
   },
   "outputs": [],
   "source": [
    "# define tokenizer\n",
    "tokenizer = RegexpTokenizer(r'\\w+')\n",
    "\n",
    "# define stop words\n",
    "stop_words = set(stopwords.words('english'))\n",
    "\n",
    "def tokenize_review(review):\n",
    "    # replace <br> breaks with spaces\n",
    "    review = review.replace(\"<br>\", ' ')\n",
    "    # make all characters lowercase\n",
    "    review = review.lower()\n",
    "    # create tokens, use regex to remove all punctuation\n",
    "    tokens = tokenizer.tokenize(review)\n",
    "    # remove stopwords\n",
    "    clean_tokens = [token for token in tokens if not token in stop_words]\n",
    "    return clean_tokens"
   ]
  },
  {
   "cell_type": "code",
   "execution_count": 23,
   "metadata": {
    "ExecuteTime": {
     "end_time": "2020-06-16T22:29:11.927188Z",
     "start_time": "2020-06-16T22:29:11.921189Z"
    }
   },
   "outputs": [
    {
     "data": {
      "text/plain": [
       "['sample', 'string', 'nailed', 'check']"
      ]
     },
     "execution_count": 23,
     "metadata": {},
     "output_type": "execute_result"
    }
   ],
   "source": [
    "# check function\n",
    "tokenize_review(string)"
   ]
  },
  {
   "cell_type": "code",
   "execution_count": 24,
   "metadata": {
    "ExecuteTime": {
     "end_time": "2020-06-16T22:29:12.411453Z",
     "start_time": "2020-06-16T22:29:11.930195Z"
    }
   },
   "outputs": [],
   "source": [
    "# apply function to dataframes\n",
    "for df in seattle_review_dataframes:\n",
    "    df['review_tokens'] =  df['review_text'].apply(tokenize_review)"
   ]
  },
  {
   "cell_type": "code",
   "execution_count": 25,
   "metadata": {
    "ExecuteTime": {
     "end_time": "2020-06-16T22:29:12.424189Z",
     "start_time": "2020-06-16T22:29:12.412214Z"
    },
    "scrolled": true
   },
   "outputs": [
    {
     "data": {
      "text/html": [
       "<div>\n",
       "<style scoped>\n",
       "    .dataframe tbody tr th:only-of-type {\n",
       "        vertical-align: middle;\n",
       "    }\n",
       "\n",
       "    .dataframe tbody tr th {\n",
       "        vertical-align: top;\n",
       "    }\n",
       "\n",
       "    .dataframe thead th {\n",
       "        text-align: right;\n",
       "    }\n",
       "</style>\n",
       "<table border=\"1\" class=\"dataframe\">\n",
       "  <thead>\n",
       "    <tr style=\"text-align: right;\">\n",
       "      <th></th>\n",
       "      <th>business_name</th>\n",
       "      <th>source_url</th>\n",
       "      <th>review_ratings</th>\n",
       "      <th>review_text</th>\n",
       "      <th>review_tokens</th>\n",
       "    </tr>\n",
       "  </thead>\n",
       "  <tbody>\n",
       "    <tr>\n",
       "      <td>2</td>\n",
       "      <td>Alexandra’s Designer Consignment</td>\n",
       "      <td>https://www.yelp.com/biz/alexandras-designer-c...</td>\n",
       "      <td>5.0</td>\n",
       "      <td>i recently bought an 18 karat gold chain here....</td>\n",
       "      <td>[recently, bought, 18, karat, gold, chain, jew...</td>\n",
       "    </tr>\n",
       "    <tr>\n",
       "      <td>3</td>\n",
       "      <td>Alexandra’s Designer Consignment</td>\n",
       "      <td>https://www.yelp.com/biz/alexandras-designer-c...</td>\n",
       "      <td>5.0</td>\n",
       "      <td>i regularly shop at alexandra is-anytime i nee...</td>\n",
       "      <td>[regularly, shop, alexandra, anytime, need, ce...</td>\n",
       "    </tr>\n",
       "    <tr>\n",
       "      <td>5</td>\n",
       "      <td>Alexandra’s Designer Consignment</td>\n",
       "      <td>https://www.yelp.com/biz/alexandras-designer-c...</td>\n",
       "      <td>5.0</td>\n",
       "      <td>i found too much here! it is such a great stor...</td>\n",
       "      <td>[found, much, great, store, even, chanel, swea...</td>\n",
       "    </tr>\n",
       "    <tr>\n",
       "      <td>6</td>\n",
       "      <td>Alexandra’s Designer Consignment</td>\n",
       "      <td>https://www.yelp.com/biz/alexandras-designer-c...</td>\n",
       "      <td>4.0</td>\n",
       "      <td>this is a very big consignment store - one of ...</td>\n",
       "      <td>[big, consignment, store, one, biggest, seen, ...</td>\n",
       "    </tr>\n",
       "    <tr>\n",
       "      <td>7</td>\n",
       "      <td>Alexandra’s Designer Consignment</td>\n",
       "      <td>https://www.yelp.com/biz/alexandras-designer-c...</td>\n",
       "      <td>4.0</td>\n",
       "      <td>awesome way to free your closet up from things...</td>\n",
       "      <td>[awesome, way, free, closet, things, want, see...</td>\n",
       "    </tr>\n",
       "  </tbody>\n",
       "</table>\n",
       "</div>"
      ],
      "text/plain": [
       "                      business_name  \\\n",
       "2  Alexandra’s Designer Consignment   \n",
       "3  Alexandra’s Designer Consignment   \n",
       "5  Alexandra’s Designer Consignment   \n",
       "6  Alexandra’s Designer Consignment   \n",
       "7  Alexandra’s Designer Consignment   \n",
       "\n",
       "                                          source_url  review_ratings  \\\n",
       "2  https://www.yelp.com/biz/alexandras-designer-c...             5.0   \n",
       "3  https://www.yelp.com/biz/alexandras-designer-c...             5.0   \n",
       "5  https://www.yelp.com/biz/alexandras-designer-c...             5.0   \n",
       "6  https://www.yelp.com/biz/alexandras-designer-c...             4.0   \n",
       "7  https://www.yelp.com/biz/alexandras-designer-c...             4.0   \n",
       "\n",
       "                                         review_text  \\\n",
       "2  i recently bought an 18 karat gold chain here....   \n",
       "3  i regularly shop at alexandra is-anytime i nee...   \n",
       "5  i found too much here! it is such a great stor...   \n",
       "6  this is a very big consignment store - one of ...   \n",
       "7  awesome way to free your closet up from things...   \n",
       "\n",
       "                                       review_tokens  \n",
       "2  [recently, bought, 18, karat, gold, chain, jew...  \n",
       "3  [regularly, shop, alexandra, anytime, need, ce...  \n",
       "5  [found, much, great, store, even, chanel, swea...  \n",
       "6  [big, consignment, store, one, biggest, seen, ...  \n",
       "7  [awesome, way, free, closet, things, want, see...  "
      ]
     },
     "execution_count": 25,
     "metadata": {},
     "output_type": "execute_result"
    }
   ],
   "source": [
    "# check head\n",
    "seattle_boutique_reviews_df.head()"
   ]
  },
  {
   "cell_type": "markdown",
   "metadata": {},
   "source": [
    "### Key Word Extraction"
   ]
  },
  {
   "cell_type": "markdown",
   "metadata": {},
   "source": [
    "In addition to using our review tokens, we will also create a column using NLTK's key word extractor. \"RAKE short for Rapid Automatic Keyword Extraction algorithm, is a domain independent keyword extraction algorithm which tries to determine key phrases in a body of text by analyzing the frequency of word appearance and its co-occurance with other words in the text.\"\n",
    "\n",
    "We will analyze tf-idf on both token lists and see which provides better recommendations. "
   ]
  },
  {
   "cell_type": "code",
   "execution_count": 26,
   "metadata": {
    "ExecuteTime": {
     "end_time": "2020-06-16T22:29:12.431195Z",
     "start_time": "2020-06-16T22:29:12.426188Z"
    }
   },
   "outputs": [],
   "source": [
    "# initialize rake\n",
    "r = rake.Rake()"
   ]
  },
  {
   "cell_type": "code",
   "execution_count": 27,
   "metadata": {
    "ExecuteTime": {
     "end_time": "2020-06-16T22:29:12.437225Z",
     "start_time": "2020-06-16T22:29:12.433192Z"
    }
   },
   "outputs": [],
   "source": [
    "# define key word extractor function\n",
    "def key_word_extractor(review):\n",
    "    # extracting the words by passing the text\n",
    "    r.extract_keywords_from_text(review)\n",
    "\n",
    "    # get the dictionary with key words and scores\n",
    "    key_words_dict_scores = r.get_word_degrees()\n",
    "\n",
    "    # return list of key words\n",
    "    return list(key_words_dict_scores.keys())"
   ]
  },
  {
   "cell_type": "code",
   "execution_count": 28,
   "metadata": {
    "ExecuteTime": {
     "end_time": "2020-06-16T22:29:17.641595Z",
     "start_time": "2020-06-16T22:29:12.438194Z"
    }
   },
   "outputs": [],
   "source": [
    "# apply function to dataframes\n",
    "for df in seattle_review_dataframes:\n",
    "    df['key_review_tokens'] = df['review_text'].apply(key_word_extractor)"
   ]
  },
  {
   "cell_type": "code",
   "execution_count": 29,
   "metadata": {
    "ExecuteTime": {
     "end_time": "2020-06-16T22:29:17.655191Z",
     "start_time": "2020-06-16T22:29:17.643216Z"
    },
    "scrolled": true
   },
   "outputs": [
    {
     "data": {
      "text/html": [
       "<div>\n",
       "<style scoped>\n",
       "    .dataframe tbody tr th:only-of-type {\n",
       "        vertical-align: middle;\n",
       "    }\n",
       "\n",
       "    .dataframe tbody tr th {\n",
       "        vertical-align: top;\n",
       "    }\n",
       "\n",
       "    .dataframe thead th {\n",
       "        text-align: right;\n",
       "    }\n",
       "</style>\n",
       "<table border=\"1\" class=\"dataframe\">\n",
       "  <thead>\n",
       "    <tr style=\"text-align: right;\">\n",
       "      <th></th>\n",
       "      <th>business_name</th>\n",
       "      <th>source_url</th>\n",
       "      <th>review_ratings</th>\n",
       "      <th>review_text</th>\n",
       "      <th>review_tokens</th>\n",
       "      <th>key_review_tokens</th>\n",
       "    </tr>\n",
       "  </thead>\n",
       "  <tbody>\n",
       "    <tr>\n",
       "      <td>1</td>\n",
       "      <td>Armistice Coffee Roaster</td>\n",
       "      <td>https://www.yelp.com/biz/armistice-coffee-roas...</td>\n",
       "      <td>4.0</td>\n",
       "      <td>good coffee. did not try any of the pastries. ...</td>\n",
       "      <td>[good, coffee, try, pastries, comfy, space, ri...</td>\n",
       "      <td>[pastries, super, convenient, indifferent, bar...</td>\n",
       "    </tr>\n",
       "    <tr>\n",
       "      <td>2</td>\n",
       "      <td>Armistice Coffee Roaster</td>\n",
       "      <td>https://www.yelp.com/biz/armistice-coffee-roas...</td>\n",
       "      <td>5.0</td>\n",
       "      <td>cozy atmosphere. really good almond croissants...</td>\n",
       "      <td>[cozy, atmosphere, really, good, almond, crois...</td>\n",
       "      <td>[much, turnover, lot, morning, catch, parking,...</td>\n",
       "    </tr>\n",
       "    <tr>\n",
       "      <td>3</td>\n",
       "      <td>Armistice Coffee Roaster</td>\n",
       "      <td>https://www.yelp.com/biz/armistice-coffee-roas...</td>\n",
       "      <td>5.0</td>\n",
       "      <td>what a nice contemporary coffee shop. 3 min wa...</td>\n",
       "      <td>[nice, contemporary, coffee, shop, 3, min, wal...</td>\n",
       "      <td>[felt, delicious, put, airbnb, nice, contempor...</td>\n",
       "    </tr>\n",
       "    <tr>\n",
       "      <td>4</td>\n",
       "      <td>Armistice Coffee Roaster</td>\n",
       "      <td>https://www.yelp.com/biz/armistice-coffee-roas...</td>\n",
       "      <td>5.0</td>\n",
       "      <td>great coffee, nice baristas, and a cute place ...</td>\n",
       "      <td>[great, coffee, nice, baristas, cute, place, g...</td>\n",
       "      <td>[enjoy, coffee, days, nice, baristas, seat, cu...</td>\n",
       "    </tr>\n",
       "    <tr>\n",
       "      <td>5</td>\n",
       "      <td>Armistice Coffee Roaster</td>\n",
       "      <td>https://www.yelp.com/biz/armistice-coffee-roas...</td>\n",
       "      <td>5.0</td>\n",
       "      <td>cozy new coffee shop and roaster in eastlake,m...</td>\n",
       "      <td>[cozy, new, coffee, shop, roaster, eastlake, p...</td>\n",
       "      <td>[cozy, new, coffee, shop, well, liked, service...</td>\n",
       "    </tr>\n",
       "  </tbody>\n",
       "</table>\n",
       "</div>"
      ],
      "text/plain": [
       "              business_name  \\\n",
       "1  Armistice Coffee Roaster   \n",
       "2  Armistice Coffee Roaster   \n",
       "3  Armistice Coffee Roaster   \n",
       "4  Armistice Coffee Roaster   \n",
       "5  Armistice Coffee Roaster   \n",
       "\n",
       "                                          source_url  review_ratings  \\\n",
       "1  https://www.yelp.com/biz/armistice-coffee-roas...             4.0   \n",
       "2  https://www.yelp.com/biz/armistice-coffee-roas...             5.0   \n",
       "3  https://www.yelp.com/biz/armistice-coffee-roas...             5.0   \n",
       "4  https://www.yelp.com/biz/armistice-coffee-roas...             5.0   \n",
       "5  https://www.yelp.com/biz/armistice-coffee-roas...             5.0   \n",
       "\n",
       "                                         review_text  \\\n",
       "1  good coffee. did not try any of the pastries. ...   \n",
       "2  cozy atmosphere. really good almond croissants...   \n",
       "3  what a nice contemporary coffee shop. 3 min wa...   \n",
       "4  great coffee, nice baristas, and a cute place ...   \n",
       "5  cozy new coffee shop and roaster in eastlake,m...   \n",
       "\n",
       "                                       review_tokens  \\\n",
       "1  [good, coffee, try, pastries, comfy, space, ri...   \n",
       "2  [cozy, atmosphere, really, good, almond, crois...   \n",
       "3  [nice, contemporary, coffee, shop, 3, min, wal...   \n",
       "4  [great, coffee, nice, baristas, cute, place, g...   \n",
       "5  [cozy, new, coffee, shop, roaster, eastlake, p...   \n",
       "\n",
       "                                   key_review_tokens  \n",
       "1  [pastries, super, convenient, indifferent, bar...  \n",
       "2  [much, turnover, lot, morning, catch, parking,...  \n",
       "3  [felt, delicious, put, airbnb, nice, contempor...  \n",
       "4  [enjoy, coffee, days, nice, baristas, seat, cu...  \n",
       "5  [cozy, new, coffee, shop, well, liked, service...  "
      ]
     },
     "execution_count": 29,
     "metadata": {},
     "output_type": "execute_result"
    }
   ],
   "source": [
    "# check to make sure function worked\n",
    "seattle_coffee_reviews_df.head()"
   ]
  },
  {
   "cell_type": "markdown",
   "metadata": {},
   "source": [
    "After further analysis it appears that the 'key_review_tokens' are essentially the same as the 'review_tokens' using our own function. Therrefore, we will simply be using the 'review_tokens' column and will drop the 'key_review_tokens'."
   ]
  },
  {
   "cell_type": "code",
   "execution_count": 30,
   "metadata": {
    "ExecuteTime": {
     "end_time": "2020-06-16T22:29:17.682245Z",
     "start_time": "2020-06-16T22:29:17.657192Z"
    }
   },
   "outputs": [],
   "source": [
    "for df in seattle_review_dataframes:\n",
    "    df.drop('key_review_tokens', axis=1, inplace=True)"
   ]
  },
  {
   "cell_type": "markdown",
   "metadata": {},
   "source": [
    "### Create Bag of Words"
   ]
  },
  {
   "cell_type": "markdown",
   "metadata": {
    "ExecuteTime": {
     "end_time": "2020-06-05T19:07:14.903697Z",
     "start_time": "2020-06-05T19:07:14.897733Z"
    }
   },
   "source": [
    "Finally, we will create a bag-of-words. We will write a quick function to create a bag-of-words from our cleaned review tokens. "
   ]
  },
  {
   "cell_type": "code",
   "execution_count": 31,
   "metadata": {
    "ExecuteTime": {
     "end_time": "2020-06-16T22:29:17.687195Z",
     "start_time": "2020-06-16T22:29:17.683189Z"
    }
   },
   "outputs": [],
   "source": [
    "# write function to create bag-of-words from list\n",
    "def bag_of_words(list):\n",
    "    words = ''\n",
    "    for word in list:\n",
    "        words += word + ' '\n",
    "    return words "
   ]
  },
  {
   "cell_type": "code",
   "execution_count": 32,
   "metadata": {
    "ExecuteTime": {
     "end_time": "2020-06-16T22:29:17.798243Z",
     "start_time": "2020-06-16T22:29:17.690191Z"
    }
   },
   "outputs": [],
   "source": [
    "# apply function to dataframes\n",
    "for df in seattle_review_dataframes:\n",
    "    df['bag_of_words'] = df['review_tokens'].apply(bag_of_words)"
   ]
  },
  {
   "cell_type": "markdown",
   "metadata": {},
   "source": [
    "### Aggregate Bag-of-Words Data by Business"
   ]
  },
  {
   "cell_type": "markdown",
   "metadata": {},
   "source": [
    "We will now want to create new dataframes where we group the token lists together for each business. "
   ]
  },
  {
   "cell_type": "code",
   "execution_count": 33,
   "metadata": {
    "ExecuteTime": {
     "end_time": "2020-06-16T22:29:17.857225Z",
     "start_time": "2020-06-16T22:29:17.799190Z"
    }
   },
   "outputs": [],
   "source": [
    "# create new dataframes\n",
    "seattle_coffee_reviews_grouped = seattle_coffee_reviews_df.groupby('business_name').agg({'bag_of_words': 'sum'})\n",
    "seattle_boutique_reviews_grouped = seattle_boutique_reviews_df.groupby('business_name').agg({'bag_of_words': 'sum'})\n",
    "seattle_adult_reviews_grouped = seattle_adult_reviews_df.groupby('business_name').agg({'bag_of_words': 'sum'})"
   ]
  },
  {
   "cell_type": "code",
   "execution_count": 34,
   "metadata": {
    "ExecuteTime": {
     "end_time": "2020-06-16T22:29:17.936571Z",
     "start_time": "2020-06-16T22:29:17.858163Z"
    }
   },
   "outputs": [],
   "source": [
    "# export to csv for future use\n",
    "seattle_coffee_reviews_grouped.to_csv('seattle_coffee_reviews_grouped.csv') \n",
    "seattle_boutique_reviews_grouped.to_csv('seattle_boutique_reviews_grouped.csv')  \n",
    "seattle_adult_reviews_grouped.to_csv('seattle_adult_reviews_grouped.csv') "
   ]
  },
  {
   "cell_type": "code",
   "execution_count": 35,
   "metadata": {
    "ExecuteTime": {
     "end_time": "2020-06-16T22:29:17.944176Z",
     "start_time": "2020-06-16T22:29:17.938175Z"
    },
    "scrolled": true
   },
   "outputs": [
    {
     "data": {
      "text/html": [
       "<div>\n",
       "<style scoped>\n",
       "    .dataframe tbody tr th:only-of-type {\n",
       "        vertical-align: middle;\n",
       "    }\n",
       "\n",
       "    .dataframe tbody tr th {\n",
       "        vertical-align: top;\n",
       "    }\n",
       "\n",
       "    .dataframe thead th {\n",
       "        text-align: right;\n",
       "    }\n",
       "</style>\n",
       "<table border=\"1\" class=\"dataframe\">\n",
       "  <thead>\n",
       "    <tr style=\"text-align: right;\">\n",
       "      <th></th>\n",
       "      <th>bag_of_words</th>\n",
       "    </tr>\n",
       "    <tr>\n",
       "      <th>business_name</th>\n",
       "      <th></th>\n",
       "    </tr>\n",
       "  </thead>\n",
       "  <tbody>\n",
       "    <tr>\n",
       "      <td>Alexandra’s Designer Consignment</td>\n",
       "      <td>recently bought 18 karat gold chain jewelry re...</td>\n",
       "    </tr>\n",
       "    <tr>\n",
       "      <td>Andaluz</td>\n",
       "      <td>fantastic gift shop great variety gifts unique...</td>\n",
       "    </tr>\n",
       "    <tr>\n",
       "      <td>Ballard Consignment Store</td>\n",
       "      <td>going want come prepared strawberries protein ...</td>\n",
       "    </tr>\n",
       "    <tr>\n",
       "      <td>Beats &amp; Bohos</td>\n",
       "      <td>amount classics store amazing loved everything...</td>\n",
       "    </tr>\n",
       "    <tr>\n",
       "      <td>Bon Voyage Vintage</td>\n",
       "      <td>yet another locally owned family business open...</td>\n",
       "    </tr>\n",
       "  </tbody>\n",
       "</table>\n",
       "</div>"
      ],
      "text/plain": [
       "                                                                       bag_of_words\n",
       "business_name                                                                      \n",
       "Alexandra’s Designer Consignment  recently bought 18 karat gold chain jewelry re...\n",
       "Andaluz                           fantastic gift shop great variety gifts unique...\n",
       "Ballard Consignment Store         going want come prepared strawberries protein ...\n",
       "Beats & Bohos                     amount classics store amazing loved everything...\n",
       "Bon Voyage Vintage                yet another locally owned family business open..."
      ]
     },
     "execution_count": 35,
     "metadata": {},
     "output_type": "execute_result"
    }
   ],
   "source": [
    "# check it\n",
    "seattle_boutique_reviews_grouped.head()"
   ]
  },
  {
   "cell_type": "code",
   "execution_count": 36,
   "metadata": {
    "ExecuteTime": {
     "end_time": "2020-06-16T22:29:17.951177Z",
     "start_time": "2020-06-16T22:29:17.946174Z"
    }
   },
   "outputs": [],
   "source": [
    "word_cloud_text = seattle_boutique_reviews_grouped.loc['Andaluz']['bag_of_words']"
   ]
  },
  {
   "cell_type": "code",
   "execution_count": 37,
   "metadata": {
    "ExecuteTime": {
     "end_time": "2020-06-16T22:29:18.521013Z",
     "start_time": "2020-06-16T22:29:17.953176Z"
    }
   },
   "outputs": [
    {
     "data": {
      "image/png": "[encoded data removed]",
      "text/plain": [
       "<Figure size 864x864 with 1 Axes>"
      ]
     },
     "metadata": {
      "needs_background": "light"
     },
     "output_type": "display_data"
    }
   ],
   "source": [
    "# Create and generate a word cloud image:\n",
    "wordcloud = WordCloud().generate(word_cloud_text)\n",
    "\n",
    "# Display the generated image:\n",
    "plt.figure(figsize=(12,12))\n",
    "plt.imshow(wordcloud, interpolation='bilinear')\n",
    "plt.axis(\"off\")\n",
    "plt.show()"
   ]
  },
  {
   "cell_type": "markdown",
   "metadata": {
    "ExecuteTime": {
     "end_time": "2020-06-04T23:36:28.349435Z",
     "start_time": "2020-06-04T23:36:28.344424Z"
    }
   },
   "source": [
    "## Coffee Shops"
   ]
  },
  {
   "cell_type": "markdown",
   "metadata": {},
   "source": [
    "Finally it's time to make some recommendations based on TF-IDF and Count Vectorizer! We will use both vectorization methods and emperically determine which is churning out the best results. "
   ]
  },
  {
   "cell_type": "code",
   "execution_count": 38,
   "metadata": {
    "ExecuteTime": {
     "end_time": "2020-06-16T22:29:18.527984Z",
     "start_time": "2020-06-16T22:29:18.521984Z"
    }
   },
   "outputs": [
    {
     "data": {
      "text/plain": [
       "0               Amore’ Coffee\n",
       "1              Ampersand Cafe\n",
       "2               Analog Coffee\n",
       "3    Anchored Ship Coffee Bar\n",
       "4           Anchorhead Coffee\n",
       "Name: business_name, dtype: object"
      ]
     },
     "execution_count": 38,
     "metadata": {},
     "output_type": "execute_result"
    }
   ],
   "source": [
    "# first we'd like to create an index with each business name which we may use for future reference\n",
    "seattle_coffee_indices = pd.Series(seattle_coffee_reviews_grouped.index)\n",
    "seattle_coffee_indices[:5]"
   ]
  },
  {
   "cell_type": "markdown",
   "metadata": {},
   "source": [
    "### TF-IDF"
   ]
  },
  {
   "cell_type": "code",
   "execution_count": 39,
   "metadata": {
    "ExecuteTime": {
     "end_time": "2020-06-16T22:29:18.702036Z",
     "start_time": "2020-06-16T22:29:18.528998Z"
    }
   },
   "outputs": [],
   "source": [
    "# initialize \n",
    "seattle_coffee_tfidf = TfidfVectorizer()\n",
    "seattle_coffee_tfidf__matrix = seattle_coffee_tfidf.fit_transform(seattle_coffee_reviews_grouped['bag_of_words'])"
   ]
  },
  {
   "cell_type": "code",
   "execution_count": 40,
   "metadata": {
    "ExecuteTime": {
     "end_time": "2020-06-16T22:29:18.720985Z",
     "start_time": "2020-06-16T22:29:18.702985Z"
    }
   },
   "outputs": [
    {
     "data": {
      "text/plain": [
       "array([[1.        , 0.3182056 , 0.4699322 , ..., 0.52679785, 0.46847014,\n",
       "        0.49476309],\n",
       "       [0.3182056 , 1.        , 0.28968668, ..., 0.36010738, 0.30824359,\n",
       "        0.32324302],\n",
       "       [0.4699322 , 0.28968668, 1.        , ..., 0.47706759, 0.42362823,\n",
       "        0.4556404 ],\n",
       "       ...,\n",
       "       [0.52679785, 0.36010738, 0.47706759, ..., 1.        , 0.4949102 ,\n",
       "        0.51322502],\n",
       "       [0.46847014, 0.30824359, 0.42362823, ..., 0.4949102 , 1.        ,\n",
       "        0.80332386],\n",
       "       [0.49476309, 0.32324302, 0.4556404 , ..., 0.51322502, 0.80332386,\n",
       "        1.        ]])"
      ]
     },
     "execution_count": 40,
     "metadata": {},
     "output_type": "execute_result"
    }
   ],
   "source": [
    "# generating the cosine similarity matrix\n",
    "seattle_coffee_cosine_sim = cosine_similarity(seattle_coffee_tfidf__matrix, seattle_coffee_tfidf__matrix)\n",
    "seattle_coffee_cosine_sim"
   ]
  },
  {
   "cell_type": "markdown",
   "metadata": {},
   "source": [
    "Finally, we will create a recommendation function that accepts a point-of-interest and a cosine similarity matrix as it's inputs and outputs a list of three recommended destinations. "
   ]
  },
  {
   "cell_type": "code",
   "execution_count": 41,
   "metadata": {
    "ExecuteTime": {
     "end_time": "2020-06-16T22:29:18.729050Z",
     "start_time": "2020-06-16T22:29:18.722987Z"
    }
   },
   "outputs": [],
   "source": [
    "# function that takes in movie title as input and returns the top 10 recommended movies\n",
    "def recommendations(business, cosine_sim, indices):\n",
    "    \n",
    "    # initialize empty list of recommended businesses\n",
    "    recommended_businesses = []\n",
    "    \n",
    "    # obtain index of business which matches input\n",
    "    idx = indices[indices == business].index[0]\n",
    "\n",
    "    # creating series with the similarity scores in descending order, convert to list\n",
    "    score_series = pd.Series(cosine_sim[idx]).sort_values(ascending = False)\n",
    "\n",
    "    # create list of indices for top three businesses\n",
    "    score_series_list = list(score_series.index[1:6])\n",
    "\n",
    "    # add top three recommended businesses to list\n",
    "    for idx in score_series_list:\n",
    "        recommended_businesses.append(indices[idx])\n",
    "        \n",
    "    return recommended_businesses"
   ]
  },
  {
   "cell_type": "code",
   "execution_count": 42,
   "metadata": {
    "ExecuteTime": {
     "end_time": "2020-06-16T22:29:18.738988Z",
     "start_time": "2020-06-16T22:29:18.730985Z"
    }
   },
   "outputs": [
    {
     "data": {
      "text/plain": [
       "['Capitol Coffee Works',\n",
       " 'C & P Coffee Company',\n",
       " 'Down Pour Coffee Bar',\n",
       " 'Street Bean Coffee Roasters',\n",
       " 'Broadcast Coffee Roasters']"
      ]
     },
     "execution_count": 42,
     "metadata": {},
     "output_type": "execute_result"
    }
   ],
   "source": [
    "recommendations('Analog Coffee', seattle_coffee_cosine_sim, seattle_coffee_indices)"
   ]
  },
  {
   "cell_type": "markdown",
   "metadata": {
    "ExecuteTime": {
     "end_time": "2020-06-04T23:36:33.671089Z",
     "start_time": "2020-06-04T23:36:33.667124Z"
    }
   },
   "source": [
    "## Boutique Shops"
   ]
  },
  {
   "cell_type": "code",
   "execution_count": 43,
   "metadata": {
    "ExecuteTime": {
     "end_time": "2020-06-16T22:29:18.747987Z",
     "start_time": "2020-06-16T22:29:18.740991Z"
    }
   },
   "outputs": [
    {
     "data": {
      "text/plain": [
       "0    Alexandra’s Designer Consignment\n",
       "1                             Andaluz\n",
       "2           Ballard Consignment Store\n",
       "3                       Beats & Bohos\n",
       "4                  Bon Voyage Vintage\n",
       "Name: business_name, dtype: object"
      ]
     },
     "execution_count": 43,
     "metadata": {},
     "output_type": "execute_result"
    }
   ],
   "source": [
    "# first we'd like to create an index with each business name which we may use for future reference\n",
    "seattle_boutique_indices = pd.Series(seattle_boutique_reviews_grouped.index)\n",
    "seattle_boutique_indices[:5]"
   ]
  },
  {
   "cell_type": "markdown",
   "metadata": {},
   "source": [
    "### TF-IDF"
   ]
  },
  {
   "cell_type": "code",
   "execution_count": 44,
   "metadata": {
    "ExecuteTime": {
     "end_time": "2020-06-16T22:29:18.834984Z",
     "start_time": "2020-06-16T22:29:18.749984Z"
    }
   },
   "outputs": [],
   "source": [
    "# initialize tf-idf vectorizer\n",
    "seattle_boutique_tfidf = TfidfVectorizer()\n",
    "seattle_boutique_tfidf__matrix = seattle_boutique_tfidf.fit_transform(seattle_boutique_reviews_grouped['bag_of_words'])"
   ]
  },
  {
   "cell_type": "code",
   "execution_count": 45,
   "metadata": {
    "ExecuteTime": {
     "end_time": "2020-06-16T22:29:18.845985Z",
     "start_time": "2020-06-16T22:29:18.835983Z"
    }
   },
   "outputs": [
    {
     "data": {
      "text/plain": [
       "array([[1.        , 0.20599322, 0.26273978, ..., 0.11065092, 0.22884236,\n",
       "        0.15558985],\n",
       "       [0.20599322, 1.        , 0.25984483, ..., 0.1196268 , 0.24582439,\n",
       "        0.18075392],\n",
       "       [0.26273978, 0.25984483, 1.        , ..., 0.17285441, 0.27229215,\n",
       "        0.20062275],\n",
       "       ...,\n",
       "       [0.11065092, 0.1196268 , 0.17285441, ..., 1.        , 0.16011892,\n",
       "        0.09639615],\n",
       "       [0.22884236, 0.24582439, 0.27229215, ..., 0.16011892, 1.        ,\n",
       "        0.15946795],\n",
       "       [0.15558985, 0.18075392, 0.20062275, ..., 0.09639615, 0.15946795,\n",
       "        1.        ]])"
      ]
     },
     "execution_count": 45,
     "metadata": {},
     "output_type": "execute_result"
    }
   ],
   "source": [
    "# generating the cosine similarity matrix\n",
    "seattle_boutique_cosine_sim = cosine_similarity(seattle_boutique_tfidf__matrix, seattle_boutique_tfidf__matrix)\n",
    "seattle_boutique_cosine_sim"
   ]
  },
  {
   "cell_type": "code",
   "execution_count": 46,
   "metadata": {
    "ExecuteTime": {
     "end_time": "2020-06-16T22:29:18.856986Z",
     "start_time": "2020-06-16T22:29:18.847986Z"
    },
    "scrolled": true
   },
   "outputs": [
    {
     "data": {
      "text/plain": [
       "['Fremont Vintage Mall',\n",
       " 'Lifelong Thrift Store',\n",
       " 'Gold Dogs',\n",
       " 'Bon Voyage Vintage',\n",
       " 'Pretty Parlor']"
      ]
     },
     "execution_count": 46,
     "metadata": {},
     "output_type": "execute_result"
    }
   ],
   "source": [
    "recommendations('Beats & Bohos', seattle_boutique_cosine_sim, seattle_boutique_indices)"
   ]
  },
  {
   "cell_type": "markdown",
   "metadata": {
    "ExecuteTime": {
     "end_time": "2020-06-05T22:38:07.598759Z",
     "start_time": "2020-06-05T22:38:07.588722Z"
    }
   },
   "source": [
    "## Adult Entertainment"
   ]
  },
  {
   "cell_type": "code",
   "execution_count": 47,
   "metadata": {
    "ExecuteTime": {
     "end_time": "2020-06-16T22:29:18.865984Z",
     "start_time": "2020-06-16T22:29:18.858984Z"
    }
   },
   "outputs": [
    {
     "data": {
      "text/plain": [
       "0                  9 LB Hammer\n",
       "1            909 Coffee & Wine\n",
       "2                Aluel Cellars\n",
       "3    Amelia Wynn Winery Bistro\n",
       "4                   Bad Bishop\n",
       "Name: business_name, dtype: object"
      ]
     },
     "execution_count": 47,
     "metadata": {},
     "output_type": "execute_result"
    }
   ],
   "source": [
    "# first we'd like to create an index with each business name which we may use for future reference\n",
    "seattle_adult_indices = pd.Series(seattle_adult_reviews_grouped.index)\n",
    "seattle_adult_indices[:5]"
   ]
  },
  {
   "cell_type": "markdown",
   "metadata": {
    "ExecuteTime": {
     "end_time": "2020-06-05T22:38:14.067477Z",
     "start_time": "2020-06-05T22:38:14.064448Z"
    }
   },
   "source": [
    "### TF-IDF"
   ]
  },
  {
   "cell_type": "code",
   "execution_count": 48,
   "metadata": {
    "ExecuteTime": {
     "end_time": "2020-06-16T22:29:18.978983Z",
     "start_time": "2020-06-16T22:29:18.867985Z"
    }
   },
   "outputs": [],
   "source": [
    "# initialize tf-idf vectorizer\n",
    "seattle_adult_tfidf = TfidfVectorizer()\n",
    "seattle_adult_tfidf__matrix = seattle_boutique_tfidf.fit_transform(seattle_boutique_reviews_grouped['bag_of_words'])"
   ]
  },
  {
   "cell_type": "code",
   "execution_count": 49,
   "metadata": {
    "ExecuteTime": {
     "end_time": "2020-06-16T22:29:18.988984Z",
     "start_time": "2020-06-16T22:29:18.979983Z"
    }
   },
   "outputs": [
    {
     "data": {
      "text/plain": [
       "array([[1.        , 0.20599322, 0.26273978, ..., 0.11065092, 0.22884236,\n",
       "        0.15558985],\n",
       "       [0.20599322, 1.        , 0.25984483, ..., 0.1196268 , 0.24582439,\n",
       "        0.18075392],\n",
       "       [0.26273978, 0.25984483, 1.        , ..., 0.17285441, 0.27229215,\n",
       "        0.20062275],\n",
       "       ...,\n",
       "       [0.11065092, 0.1196268 , 0.17285441, ..., 1.        , 0.16011892,\n",
       "        0.09639615],\n",
       "       [0.22884236, 0.24582439, 0.27229215, ..., 0.16011892, 1.        ,\n",
       "        0.15946795],\n",
       "       [0.15558985, 0.18075392, 0.20062275, ..., 0.09639615, 0.15946795,\n",
       "        1.        ]])"
      ]
     },
     "execution_count": 49,
     "metadata": {},
     "output_type": "execute_result"
    }
   ],
   "source": [
    "# generating the cosine similarity matrix\n",
    "seattle_adult_cosine_sim = cosine_similarity(seattle_adult_tfidf__matrix, seattle_adult_tfidf__matrix)\n",
    "seattle_adult_cosine_sim"
   ]
  },
  {
   "cell_type": "code",
   "execution_count": 50,
   "metadata": {
    "ExecuteTime": {
     "end_time": "2020-06-16T22:29:18.998985Z",
     "start_time": "2020-06-16T22:29:18.990988Z"
    },
    "scrolled": true
   },
   "outputs": [
    {
     "data": {
      "text/plain": [
       "['Bottlehouse', 'Fremont Brewing', 'Claret Wine Bar', 'Cepae', 'Cafe Mia']"
      ]
     },
     "execution_count": 50,
     "metadata": {},
     "output_type": "execute_result"
    }
   ],
   "source": [
    "recommendations('Aluel Cellars', seattle_adult_cosine_sim, seattle_adult_indices)"
   ]
  }
 ],
 "metadata": {
  "kernelspec": {
   "display_name": "Python [conda env:learn-env] *",
   "language": "python",
   "name": "conda-env-learn-env-py"
  },
  "language_info": {
   "codemirror_mode": {
    "name": "ipython",
    "version": 3
   },
   "file_extension": ".py",
   "mimetype": "text/x-python",
   "name": "python",
   "nbconvert_exporter": "python",
   "pygments_lexer": "ipython3",
   "version": "3.6.9"
  },
  "toc": {
   "base_numbering": 1,
   "nav_menu": {},
   "number_sections": true,
   "sideBar": true,
   "skip_h1_title": false,
   "title_cell": "Table of Contents",
   "title_sidebar": "Contents",
   "toc_cell": false,
   "toc_position": {
    "height": "calc(100% - 180px)",
    "left": "10px",
    "top": "150px",
    "width": "341.333px"
   },
   "toc_section_display": true,
   "toc_window_display": true
  },
  "varInspector": {
   "cols": {
    "lenName": 16,
    "lenType": 16,
    "lenVar": 40
   },
   "kernels_config": {
    "python": {
     "delete_cmd_postfix": "",
     "delete_cmd_prefix": "del ",
     "library": "var_list.py",
     "varRefreshCmd": "print(var_dic_list())"
    },
    "r": {
     "delete_cmd_postfix": ") ",
     "delete_cmd_prefix": "rm(",
     "library": "var_list.r",
     "varRefreshCmd": "cat(var_dic_list()) "
    }
   },
   "types_to_exclude": [
    "module",
    "function",
    "builtin_function_or_method",
    "instance",
    "_Feature"
   ],
   "window_display": false
  }
 },
 "nbformat": 4,
 "nbformat_minor": 2
}
